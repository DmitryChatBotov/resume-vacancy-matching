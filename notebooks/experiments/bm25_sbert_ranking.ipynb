{
  "nbformat": 4,
  "nbformat_minor": 0,
  "metadata": {
    "colab": {
      "provenance": [],
      "gpuType": "T4"
    },
    "kernelspec": {
      "name": "python3",
      "display_name": "Python 3"
    },
    "language_info": {
      "name": "python"
    },
    "accelerator": "GPU"
  },
  "cells": [
    {
      "cell_type": "code",
      "source": [
        "!pip install rank-bm25 > None\n",
        "!pip install sentence_transformers > None\n",
        "!pip install transformers > None\n",
        "!pip install nltk pymystem3 > None\n",
        "!pip install pyenchant > None"
      ],
      "metadata": {
        "id": "K4oD7wrqPskX"
      },
      "execution_count": 66,
      "outputs": []
    },
    {
      "cell_type": "code",
      "source": [
        "from google.colab import drive\n",
        "drive.mount('/content/drive')"
      ],
      "metadata": {
        "colab": {
          "base_uri": "https://localhost:8080/"
        },
        "id": "mRzejtYLtYhX",
        "outputId": "dcd336dc-ac19-43c9-bd39-7005d9676a08"
      },
      "execution_count": 2,
      "outputs": [
        {
          "output_type": "stream",
          "name": "stdout",
          "text": [
            "Drive already mounted at /content/drive; to attempt to forcibly remount, call drive.mount(\"/content/drive\", force_remount=True).\n"
          ]
        }
      ]
    },
    {
      "cell_type": "code",
      "source": [
        "import pandas as pd\n",
        "import nltk\n",
        "import re\n",
        "from tqdm import tqdm\n",
        "from collections import defaultdict\n",
        "import numpy as np\n",
        "from rank_bm25 import BM25Okapi\n",
        "from nltk.corpus import stopwords\n",
        "import torch\n",
        "from sentence_transformers import SentenceTransformer, util\n",
        "from transformers import pipeline\n",
        "from nltk.tokenize import sent_tokenize, word_tokenize\n",
        "import gc\n",
        "from nltk import WordPunctTokenizer\n",
        "from rank_bm25 import BM25Okapi\n",
        "from sentence_transformers import SentenceTransformer, util\n",
        "from pymystem3 import Mystem\n",
        "import enchant"
      ],
      "metadata": {
        "id": "9_Fej8Boc4XV"
      },
      "execution_count": 67,
      "outputs": []
    },
    {
      "cell_type": "code",
      "source": [
        "nltk.download(\"punkt\")\n",
        "nltk.download(\"stopwords\")"
      ],
      "metadata": {
        "colab": {
          "base_uri": "https://localhost:8080/"
        },
        "id": "7MRfyDu_50Vb",
        "outputId": "80302231-80fc-44cf-c560-1f0fd57c84e2"
      },
      "execution_count": 38,
      "outputs": [
        {
          "output_type": "stream",
          "name": "stderr",
          "text": [
            "[nltk_data] Downloading package punkt to /root/nltk_data...\n",
            "[nltk_data]   Unzipping tokenizers/punkt.zip.\n",
            "[nltk_data] Downloading package stopwords to /root/nltk_data...\n",
            "[nltk_data]   Unzipping corpora/stopwords.zip.\n"
          ]
        },
        {
          "output_type": "execute_result",
          "data": {
            "text/plain": [
              "True"
            ]
          },
          "metadata": {},
          "execution_count": 38
        }
      ]
    },
    {
      "cell_type": "markdown",
      "source": [
        "Предобработка текстов"
      ],
      "metadata": {
        "id": "3npwSgA45o3t"
      }
    },
    {
      "cell_type": "code",
      "source": [
        "morph_analyzer = Mystem()\n",
        "tokenizer = WordPunctTokenizer()"
      ],
      "metadata": {
        "colab": {
          "base_uri": "https://localhost:8080/"
        },
        "id": "PYVmByKW5a9o",
        "outputId": "ddb1dff6-880e-4548-e485-484e17862aaf"
      },
      "execution_count": 33,
      "outputs": [
        {
          "output_type": "stream",
          "name": "stderr",
          "text": [
            "Installing mystem to /root/.local/bin/mystem from http://download.cdn.yandex.net/mystem/mystem-3.1-linux-64bit.tar.gz\n"
          ]
        }
      ]
    },
    {
      "cell_type": "code",
      "source": [
        "russian_stopwords = stopwords.words(\"russian\")\n",
        "additional_sw = \"мои оно мной мною мог могут мор мое мочь оба нам нами ними однако нему никуда наш нею неё наша наше наши очень отсюда вон вами ваш ваша ваше ваши весь всем всеми вся ими ею будем будете будешь буду будь будут кому кого которой которого которая которые который которых кем каждое каждая каждые каждый кажется та те тому собой тобой собою тобою тою хотеть хочешь свое свои твой своей своего своих твоя твоё сама сами теми само самом самому самой самого самим самими самих саму чему тебе такое такие также такая сих тех ту эта это этому туда этим этими этих абы аж ан благо буде вроде дабы едва ежели затем зато ибо итак кабы коли коль либо лишь нежели пока покамест покуда поскольку притом причем пускай пусть ровно сиречь словно также точно хотя чисто якобы \"\n",
        "pronouns = \"я мы ты вы он она оно они себя мой твой ваш наш свой его ее их то это тот этот такой таков столько весь всякий сам самый каждый любой иной другой кто что какой каков чей сколько никто ничто некого нечего никакой ничей нисколько кто-то кое-кто кто-нибудь кто-либо что-то кое-что что-нибудь что-либо какой-то какой-либо какой-нибудь некто нечто некоторый некий\"\n",
        "conjunctions = \"что чтобы как когда ибо пока будто словно если потому что оттого что так как так что лишь только как будто с тех пор как в связи с тем что для того чтобы кто как когда который какой где куда откуда\"\n",
        "digits = \"ноль один два три четыре пять шесть семь восемь девять десять одиннадцать двенадцать тринадцать четырнадцать пятнадцать шестнадцать семнадцать восемнадцать девятнадцать двадцать тридцать сорок пятьдесят шестьдесят семьдесят восемьдесят девяносто сто\"\n",
        "modal_words = \"вероятно возможно видимо по-видимому кажется наверное безусловно верно  действительно конечно несомненно разумеется\"\n",
        "particles = \"да так точно ну да не ни неужели ли разве а что ли что за то-то как ну и ведь даже еще ведь уже все все-таки просто прямо вон это вот как словно будто точно как будто вроде как бы именно как раз подлинно ровно лишь только хоть всего исключительно вряд ли едва ли\"\n",
        "prepositions = \"близ  вблизи  вдоль  вокруг  впереди  внутрь  внутри  возле  около  поверх  сверху  сверх  позади  сзади  сквозь  среди  прежде  мимо  вслед  согласно  подобно  навстречу  против  напротив  вопреки  после  кроме  вместе  вдали  наряду  совместно  согласно  нежели вроде от бишь до без аж тех раньше совсем только итак например из прямо ли следствие а поскольку благо пускай благодаря случае затем притом также связи время при чтоб просто того невзирая даром вместо точно покуда тогда зато ради ан буде прежде насчет раз причине тому так даже исходя коль кабы более ровно либо помимо как-то будто если словно лишь бы и не будь пор тоже разве чуть как хотя наряду потому пусть в равно между сверх ибо на судя то чтобы относительно или счет за но сравнению причем оттого есть когда уж ввиду тем для дабы чем хоть с вплоть скоро едва после той да вопреки ежели кроме сиречь же коли под абы несмотря все пока покамест паче прямо-таки перед что по вдруг якобы подобно\"\n",
        "evaluative = \"наиболее наименее лучший больший высший низший худший более менее\"\n",
        "\n",
        "russian_stopwords.extend(additional_sw.split())\n",
        "russian_stopwords.extend(pronouns.split())\n",
        "russian_stopwords.extend(conjunctions.split())\n",
        "russian_stopwords.extend(digits.split())\n",
        "russian_stopwords.extend(modal_words.split())\n",
        "russian_stopwords.extend(particles.split())\n",
        "russian_stopwords.extend(prepositions.split())\n",
        "russian_stopwords.extend(evaluative.split())\n",
        "russian_stopwords = set(russian_stopwords)"
      ],
      "metadata": {
        "id": "TmCOPUxO5nq4"
      },
      "execution_count": 69,
      "outputs": []
    },
    {
      "cell_type": "code",
      "source": [
        "def lemmatize(words) -> list[str]:\n",
        "    lemmatized_text = morph_analyzer.lemmatize(\" \".join(words))\n",
        "    return [word for word in lemmatized_text if word.isalnum()]\n",
        "\n",
        "\n",
        "def delete_stop_words(words):\n",
        "    return [word for word in words if word not in russian_stopwords]\n",
        "\n",
        "\n",
        "def delete_punctuation(text):\n",
        "    return \" \".join([word for word in tokenizer.tokenize(text) if word.isalnum()])\n",
        "\n",
        "\n",
        "def tokenize_by_sentences(text: str) -> list[str]:\n",
        "    return sent_tokenize(text, language=\"russian\")\n",
        "\n",
        "\n",
        "def tokenize_by_words(text):\n",
        "    return word_tokenize(text, language=\"russian\")\n",
        "\n",
        "\n",
        "def convert_text_to_lowercase(text: str):\n",
        "    return text.lower()\n",
        "\n",
        "\n",
        "def preprocess(text: str) -> str:\n",
        "    sentences: list[str] = tokenize_by_sentences(text)\n",
        "    preprocessed_sentences: list[str] = list()\n",
        "    for sentence in sentences:\n",
        "        sentence = convert_text_to_lowercase(sentence)\n",
        "        sentence = delete_punctuation(sentence)\n",
        "        words = tokenize_by_words(sentence)\n",
        "        words = delete_stop_words(words)\n",
        "        words = lemmatize(words)\n",
        "        preprocessed_sentences.extend(words)\n",
        "    return  ' '.join(preprocessed_sentences)"
      ],
      "metadata": {
        "id": "gP8r_kLK5_Px"
      },
      "execution_count": 70,
      "outputs": []
    },
    {
      "cell_type": "code",
      "source": [
        "df = pd.read_csv('/content/drive/MyDrive/resume_job_matching/Raw_Jobs.csv', delimiter=';')\n",
        "df.head()"
      ],
      "metadata": {
        "colab": {
          "base_uri": "https://localhost:8080/",
          "height": 469
        },
        "id": "Ww_Qf3sydTU1",
        "outputId": "f901ee16-a410-42e1-a9d8-c6ba628bfc08"
      },
      "execution_count": 43,
      "outputs": [
        {
          "output_type": "execute_result",
          "data": {
            "text/plain": [
              "   №        id                                            title  \\\n",
              "0  1  78577559                                  Главный механик   \n",
              "1  2  78693069                                 HTML-верстальщик   \n",
              "2  3  78945452  Тренер (направление профессионального обучения)   \n",
              "3  4  79352008                          Старший механик на КСПГ   \n",
              "4  5  79406472                           System Analyst Trainee   \n",
              "\n",
              "                    salary          experience                      job_type  \\\n",
              "0  от 160000 до 160000 RUR         Более 6 лет  Полная занятость,полный день   \n",
              "1           з/п не указана  От 1 года до 3 лет  Полная занятость,полный день   \n",
              "2           з/п не указана  От 1 года до 3 лет  Полная занятость,полный день   \n",
              "3           з/п не указана         Более 6 лет  Полная занятость,полный день   \n",
              "4           з/п не указана           Нет опыта        Стажировка,полный день   \n",
              "\n",
              "                                         description  \\\n",
              "0  Вакансия компании:   ООО ПК Предприятие \"ПИК\" ...   \n",
              "1  В креативное агентство на полный рабочий день ...   \n",
              "2    Наши предложения:        самостоятельность в...   \n",
              "3    Обязанности:        _Обеспечение технически ...   \n",
              "4  IT-компания Aston - компания по разработке про...   \n",
              "\n",
              "                                          key_skills               company  \\\n",
              "0                                                NaN               JCat.ru   \n",
              "1                                                NaN        Чугунова Ирина   \n",
              "2                                                NaN           Перекрёсток   \n",
              "3                                                NaN  Газпром гелий сервис   \n",
              "4  UML,SQL,Scrum,Retail,Базы данных,Kanban,Waterf...                 Aston   \n",
              "\n",
              "      location date_of_post   type  \n",
              "0  Владивосток   27.03.2023  close  \n",
              "1          NaN   29.03.2023  close  \n",
              "2          NaN   18.04.2023  close  \n",
              "3          NaN   17.04.2023  close  \n",
              "4          NaN   17.04.2023  close  "
            ],
            "text/html": [
              "\n",
              "  <div id=\"df-b9aaef07-3715-4fe3-88c1-9163344a3b6c\" class=\"colab-df-container\">\n",
              "    <div>\n",
              "<style scoped>\n",
              "    .dataframe tbody tr th:only-of-type {\n",
              "        vertical-align: middle;\n",
              "    }\n",
              "\n",
              "    .dataframe tbody tr th {\n",
              "        vertical-align: top;\n",
              "    }\n",
              "\n",
              "    .dataframe thead th {\n",
              "        text-align: right;\n",
              "    }\n",
              "</style>\n",
              "<table border=\"1\" class=\"dataframe\">\n",
              "  <thead>\n",
              "    <tr style=\"text-align: right;\">\n",
              "      <th></th>\n",
              "      <th>№</th>\n",
              "      <th>id</th>\n",
              "      <th>title</th>\n",
              "      <th>salary</th>\n",
              "      <th>experience</th>\n",
              "      <th>job_type</th>\n",
              "      <th>description</th>\n",
              "      <th>key_skills</th>\n",
              "      <th>company</th>\n",
              "      <th>location</th>\n",
              "      <th>date_of_post</th>\n",
              "      <th>type</th>\n",
              "    </tr>\n",
              "  </thead>\n",
              "  <tbody>\n",
              "    <tr>\n",
              "      <th>0</th>\n",
              "      <td>1</td>\n",
              "      <td>78577559</td>\n",
              "      <td>Главный механик</td>\n",
              "      <td>от 160000 до 160000 RUR</td>\n",
              "      <td>Более 6 лет</td>\n",
              "      <td>Полная занятость,полный день</td>\n",
              "      <td>Вакансия компании:   ООО ПК Предприятие \"ПИК\" ...</td>\n",
              "      <td>NaN</td>\n",
              "      <td>JCat.ru</td>\n",
              "      <td>Владивосток</td>\n",
              "      <td>27.03.2023</td>\n",
              "      <td>close</td>\n",
              "    </tr>\n",
              "    <tr>\n",
              "      <th>1</th>\n",
              "      <td>2</td>\n",
              "      <td>78693069</td>\n",
              "      <td>HTML-верстальщик</td>\n",
              "      <td>з/п не указана</td>\n",
              "      <td>От 1 года до 3 лет</td>\n",
              "      <td>Полная занятость,полный день</td>\n",
              "      <td>В креативное агентство на полный рабочий день ...</td>\n",
              "      <td>NaN</td>\n",
              "      <td>Чугунова Ирина</td>\n",
              "      <td>NaN</td>\n",
              "      <td>29.03.2023</td>\n",
              "      <td>close</td>\n",
              "    </tr>\n",
              "    <tr>\n",
              "      <th>2</th>\n",
              "      <td>3</td>\n",
              "      <td>78945452</td>\n",
              "      <td>Тренер (направление профессионального обучения)</td>\n",
              "      <td>з/п не указана</td>\n",
              "      <td>От 1 года до 3 лет</td>\n",
              "      <td>Полная занятость,полный день</td>\n",
              "      <td>Наши предложения:        самостоятельность в...</td>\n",
              "      <td>NaN</td>\n",
              "      <td>Перекрёсток</td>\n",
              "      <td>NaN</td>\n",
              "      <td>18.04.2023</td>\n",
              "      <td>close</td>\n",
              "    </tr>\n",
              "    <tr>\n",
              "      <th>3</th>\n",
              "      <td>4</td>\n",
              "      <td>79352008</td>\n",
              "      <td>Старший механик на КСПГ</td>\n",
              "      <td>з/п не указана</td>\n",
              "      <td>Более 6 лет</td>\n",
              "      <td>Полная занятость,полный день</td>\n",
              "      <td>Обязанности:        _Обеспечение технически ...</td>\n",
              "      <td>NaN</td>\n",
              "      <td>Газпром гелий сервис</td>\n",
              "      <td>NaN</td>\n",
              "      <td>17.04.2023</td>\n",
              "      <td>close</td>\n",
              "    </tr>\n",
              "    <tr>\n",
              "      <th>4</th>\n",
              "      <td>5</td>\n",
              "      <td>79406472</td>\n",
              "      <td>System Analyst Trainee</td>\n",
              "      <td>з/п не указана</td>\n",
              "      <td>Нет опыта</td>\n",
              "      <td>Стажировка,полный день</td>\n",
              "      <td>IT-компания Aston - компания по разработке про...</td>\n",
              "      <td>UML,SQL,Scrum,Retail,Базы данных,Kanban,Waterf...</td>\n",
              "      <td>Aston</td>\n",
              "      <td>NaN</td>\n",
              "      <td>17.04.2023</td>\n",
              "      <td>close</td>\n",
              "    </tr>\n",
              "  </tbody>\n",
              "</table>\n",
              "</div>\n",
              "    <div class=\"colab-df-buttons\">\n",
              "\n",
              "  <div class=\"colab-df-container\">\n",
              "    <button class=\"colab-df-convert\" onclick=\"convertToInteractive('df-b9aaef07-3715-4fe3-88c1-9163344a3b6c')\"\n",
              "            title=\"Convert this dataframe to an interactive table.\"\n",
              "            style=\"display:none;\">\n",
              "\n",
              "  <svg xmlns=\"http://www.w3.org/2000/svg\" height=\"24px\" viewBox=\"0 -960 960 960\">\n",
              "    <path d=\"M120-120v-720h720v720H120Zm60-500h600v-160H180v160Zm220 220h160v-160H400v160Zm0 220h160v-160H400v160ZM180-400h160v-160H180v160Zm440 0h160v-160H620v160ZM180-180h160v-160H180v160Zm440 0h160v-160H620v160Z\"/>\n",
              "  </svg>\n",
              "    </button>\n",
              "\n",
              "  <style>\n",
              "    .colab-df-container {\n",
              "      display:flex;\n",
              "      gap: 12px;\n",
              "    }\n",
              "\n",
              "    .colab-df-convert {\n",
              "      background-color: #E8F0FE;\n",
              "      border: none;\n",
              "      border-radius: 50%;\n",
              "      cursor: pointer;\n",
              "      display: none;\n",
              "      fill: #1967D2;\n",
              "      height: 32px;\n",
              "      padding: 0 0 0 0;\n",
              "      width: 32px;\n",
              "    }\n",
              "\n",
              "    .colab-df-convert:hover {\n",
              "      background-color: #E2EBFA;\n",
              "      box-shadow: 0px 1px 2px rgba(60, 64, 67, 0.3), 0px 1px 3px 1px rgba(60, 64, 67, 0.15);\n",
              "      fill: #174EA6;\n",
              "    }\n",
              "\n",
              "    .colab-df-buttons div {\n",
              "      margin-bottom: 4px;\n",
              "    }\n",
              "\n",
              "    [theme=dark] .colab-df-convert {\n",
              "      background-color: #3B4455;\n",
              "      fill: #D2E3FC;\n",
              "    }\n",
              "\n",
              "    [theme=dark] .colab-df-convert:hover {\n",
              "      background-color: #434B5C;\n",
              "      box-shadow: 0px 1px 3px 1px rgba(0, 0, 0, 0.15);\n",
              "      filter: drop-shadow(0px 1px 2px rgba(0, 0, 0, 0.3));\n",
              "      fill: #FFFFFF;\n",
              "    }\n",
              "  </style>\n",
              "\n",
              "    <script>\n",
              "      const buttonEl =\n",
              "        document.querySelector('#df-b9aaef07-3715-4fe3-88c1-9163344a3b6c button.colab-df-convert');\n",
              "      buttonEl.style.display =\n",
              "        google.colab.kernel.accessAllowed ? 'block' : 'none';\n",
              "\n",
              "      async function convertToInteractive(key) {\n",
              "        const element = document.querySelector('#df-b9aaef07-3715-4fe3-88c1-9163344a3b6c');\n",
              "        const dataTable =\n",
              "          await google.colab.kernel.invokeFunction('convertToInteractive',\n",
              "                                                    [key], {});\n",
              "        if (!dataTable) return;\n",
              "\n",
              "        const docLinkHtml = 'Like what you see? Visit the ' +\n",
              "          '<a target=\"_blank\" href=https://colab.research.google.com/notebooks/data_table.ipynb>data table notebook</a>'\n",
              "          + ' to learn more about interactive tables.';\n",
              "        element.innerHTML = '';\n",
              "        dataTable['output_type'] = 'display_data';\n",
              "        await google.colab.output.renderOutput(dataTable, element);\n",
              "        const docLink = document.createElement('div');\n",
              "        docLink.innerHTML = docLinkHtml;\n",
              "        element.appendChild(docLink);\n",
              "      }\n",
              "    </script>\n",
              "  </div>\n",
              "\n",
              "\n",
              "<div id=\"df-8d8715e8-5c6f-4068-ba9d-984be2051b86\">\n",
              "  <button class=\"colab-df-quickchart\" onclick=\"quickchart('df-8d8715e8-5c6f-4068-ba9d-984be2051b86')\"\n",
              "            title=\"Suggest charts\"\n",
              "            style=\"display:none;\">\n",
              "\n",
              "<svg xmlns=\"http://www.w3.org/2000/svg\" height=\"24px\"viewBox=\"0 0 24 24\"\n",
              "     width=\"24px\">\n",
              "    <g>\n",
              "        <path d=\"M19 3H5c-1.1 0-2 .9-2 2v14c0 1.1.9 2 2 2h14c1.1 0 2-.9 2-2V5c0-1.1-.9-2-2-2zM9 17H7v-7h2v7zm4 0h-2V7h2v10zm4 0h-2v-4h2v4z\"/>\n",
              "    </g>\n",
              "</svg>\n",
              "  </button>\n",
              "\n",
              "<style>\n",
              "  .colab-df-quickchart {\n",
              "      --bg-color: #E8F0FE;\n",
              "      --fill-color: #1967D2;\n",
              "      --hover-bg-color: #E2EBFA;\n",
              "      --hover-fill-color: #174EA6;\n",
              "      --disabled-fill-color: #AAA;\n",
              "      --disabled-bg-color: #DDD;\n",
              "  }\n",
              "\n",
              "  [theme=dark] .colab-df-quickchart {\n",
              "      --bg-color: #3B4455;\n",
              "      --fill-color: #D2E3FC;\n",
              "      --hover-bg-color: #434B5C;\n",
              "      --hover-fill-color: #FFFFFF;\n",
              "      --disabled-bg-color: #3B4455;\n",
              "      --disabled-fill-color: #666;\n",
              "  }\n",
              "\n",
              "  .colab-df-quickchart {\n",
              "    background-color: var(--bg-color);\n",
              "    border: none;\n",
              "    border-radius: 50%;\n",
              "    cursor: pointer;\n",
              "    display: none;\n",
              "    fill: var(--fill-color);\n",
              "    height: 32px;\n",
              "    padding: 0;\n",
              "    width: 32px;\n",
              "  }\n",
              "\n",
              "  .colab-df-quickchart:hover {\n",
              "    background-color: var(--hover-bg-color);\n",
              "    box-shadow: 0 1px 2px rgba(60, 64, 67, 0.3), 0 1px 3px 1px rgba(60, 64, 67, 0.15);\n",
              "    fill: var(--button-hover-fill-color);\n",
              "  }\n",
              "\n",
              "  .colab-df-quickchart-complete:disabled,\n",
              "  .colab-df-quickchart-complete:disabled:hover {\n",
              "    background-color: var(--disabled-bg-color);\n",
              "    fill: var(--disabled-fill-color);\n",
              "    box-shadow: none;\n",
              "  }\n",
              "\n",
              "  .colab-df-spinner {\n",
              "    border: 2px solid var(--fill-color);\n",
              "    border-color: transparent;\n",
              "    border-bottom-color: var(--fill-color);\n",
              "    animation:\n",
              "      spin 1s steps(1) infinite;\n",
              "  }\n",
              "\n",
              "  @keyframes spin {\n",
              "    0% {\n",
              "      border-color: transparent;\n",
              "      border-bottom-color: var(--fill-color);\n",
              "      border-left-color: var(--fill-color);\n",
              "    }\n",
              "    20% {\n",
              "      border-color: transparent;\n",
              "      border-left-color: var(--fill-color);\n",
              "      border-top-color: var(--fill-color);\n",
              "    }\n",
              "    30% {\n",
              "      border-color: transparent;\n",
              "      border-left-color: var(--fill-color);\n",
              "      border-top-color: var(--fill-color);\n",
              "      border-right-color: var(--fill-color);\n",
              "    }\n",
              "    40% {\n",
              "      border-color: transparent;\n",
              "      border-right-color: var(--fill-color);\n",
              "      border-top-color: var(--fill-color);\n",
              "    }\n",
              "    60% {\n",
              "      border-color: transparent;\n",
              "      border-right-color: var(--fill-color);\n",
              "    }\n",
              "    80% {\n",
              "      border-color: transparent;\n",
              "      border-right-color: var(--fill-color);\n",
              "      border-bottom-color: var(--fill-color);\n",
              "    }\n",
              "    90% {\n",
              "      border-color: transparent;\n",
              "      border-bottom-color: var(--fill-color);\n",
              "    }\n",
              "  }\n",
              "</style>\n",
              "\n",
              "  <script>\n",
              "    async function quickchart(key) {\n",
              "      const quickchartButtonEl =\n",
              "        document.querySelector('#' + key + ' button');\n",
              "      quickchartButtonEl.disabled = true;  // To prevent multiple clicks.\n",
              "      quickchartButtonEl.classList.add('colab-df-spinner');\n",
              "      try {\n",
              "        const charts = await google.colab.kernel.invokeFunction(\n",
              "            'suggestCharts', [key], {});\n",
              "      } catch (error) {\n",
              "        console.error('Error during call to suggestCharts:', error);\n",
              "      }\n",
              "      quickchartButtonEl.classList.remove('colab-df-spinner');\n",
              "      quickchartButtonEl.classList.add('colab-df-quickchart-complete');\n",
              "    }\n",
              "    (() => {\n",
              "      let quickchartButtonEl =\n",
              "        document.querySelector('#df-8d8715e8-5c6f-4068-ba9d-984be2051b86 button');\n",
              "      quickchartButtonEl.style.display =\n",
              "        google.colab.kernel.accessAllowed ? 'block' : 'none';\n",
              "    })();\n",
              "  </script>\n",
              "</div>\n",
              "    </div>\n",
              "  </div>\n"
            ]
          },
          "metadata": {},
          "execution_count": 43
        }
      ]
    },
    {
      "cell_type": "code",
      "source": [
        "valid_comment_pattern = r\"программист|разработчик|developer\""
      ],
      "metadata": {
        "id": "WNGj6DaxdvfH"
      },
      "execution_count": 44,
      "outputs": []
    },
    {
      "cell_type": "code",
      "source": [
        "df['is_valid_pattern'] = df['title'].apply(lambda x: True if not isinstance(x, float) and re.match(valid_comment_pattern, x.lower()) is not None else False)\n"
      ],
      "metadata": {
        "id": "vhovaMKGeOdK"
      },
      "execution_count": 45,
      "outputs": []
    },
    {
      "cell_type": "code",
      "source": [
        "df = df[df.is_valid_pattern == True]\n"
      ],
      "metadata": {
        "id": "VP7ZVPHAeQQa"
      },
      "execution_count": 46,
      "outputs": []
    },
    {
      "cell_type": "code",
      "source": [
        "#парсим описание вакансии как можем\n",
        "def extract_information(job_description):\n",
        "    responsibilities_pattern = r'\\b(?:вам предстоит|вы будете|задачи|обязанности|чем необходимо заниматься)\\b:(.*?)(?=\\b(?:требования|требования к кандидатам|мы предлагаем|условия|требования:|мы ожидаем|наши пожелания|будет плюсом|будет преимуществом)\\b|$)'\n",
        "    requirements_pattern = r'\\b(?:для нас важно|ждем от вас|мы ожидаем|наши пожелания|необходимые навыки|требования|требования к кандидатам|будет плюсом|будет преимуществом)\\b:(.*?)(?=\\b(?:мы предлагаем|условия|место работы|длительность рабочего дня)\\b|$)'\n",
        "    conditions_pattern = r'\\b(?:мы предлагаем|условия)\\b:(.*?)(?=\\b(?:в ответ на оставленный отклик|образование)\\b|$)'\n",
        "\n",
        "    responsibilities_match = re.search(responsibilities_pattern, job_description, re.IGNORECASE | re.DOTALL)\n",
        "    requirements_match = re.search(requirements_pattern, job_description, re.IGNORECASE | re.DOTALL)\n",
        "    conditions_match = re.search(conditions_pattern, job_description, re.IGNORECASE | re.DOTALL)\n",
        "\n",
        "    responsibilities = responsibilities_match.group(1).strip() if responsibilities_match else None\n",
        "    requirements = requirements_match.group(1).strip() if requirements_match else None\n",
        "    conditions = conditions_match.group(1).strip() if conditions_match else None\n",
        "\n",
        "    return responsibilities, requirements, conditions"
      ],
      "metadata": {
        "id": "sWg8mSHVeUkY"
      },
      "execution_count": 47,
      "outputs": []
    },
    {
      "cell_type": "code",
      "source": [
        "responsabilities, req, cond = list(), list(), list()"
      ],
      "metadata": {
        "id": "N6lsO5DOeaY7"
      },
      "execution_count": 48,
      "outputs": []
    },
    {
      "cell_type": "code",
      "source": [
        "for row in tqdm(df['description']):\n",
        "    responsability, requirements, conditions = extract_information(row)\n",
        "    responsabilities.append(responsability)\n",
        "    req.append(requirements)\n",
        "    cond.append(conditions)"
      ],
      "metadata": {
        "colab": {
          "base_uri": "https://localhost:8080/"
        },
        "id": "4dC9mBBFece_",
        "outputId": "b13172ee-bc6b-4d91-fc2d-90a3b608b0f8"
      },
      "execution_count": 49,
      "outputs": [
        {
          "output_type": "stream",
          "name": "stderr",
          "text": [
            "100%|██████████| 1219/1219 [00:00<00:00, 4182.47it/s]\n"
          ]
        }
      ]
    },
    {
      "cell_type": "code",
      "source": [
        "df['responsabilities'] = responsabilities\n",
        "df['requirements'] = req\n",
        "df['conditions'] = cond"
      ],
      "metadata": {
        "id": "Kpe1_Cf7eeJp"
      },
      "execution_count": 50,
      "outputs": []
    },
    {
      "cell_type": "code",
      "source": [
        "del responsabilities\n",
        "del req\n",
        "del cond\n",
        "gc.collect()"
      ],
      "metadata": {
        "colab": {
          "base_uri": "https://localhost:8080/"
        },
        "id": "mu6jHm1yef17",
        "outputId": "b088ce18-de1e-45c2-990e-704954516d8c"
      },
      "execution_count": 51,
      "outputs": [
        {
          "output_type": "execute_result",
          "data": {
            "text/plain": [
              "4272"
            ]
          },
          "metadata": {},
          "execution_count": 51
        }
      ]
    },
    {
      "cell_type": "code",
      "source": [
        "vacancy_text = defaultdict(str)\n",
        "for idx, row in df.iterrows():\n",
        "    vacancy_text[idx]  = f\"Профессия: {row['title']}. Ключевые навыки: {row['key_skills']}. Обязанности: {row['responsabilities']}. Требования: {row['requirements']}. Условия {row['conditions']}\""
      ],
      "metadata": {
        "id": "3-PU0lugehfi"
      },
      "execution_count": 52,
      "outputs": []
    },
    {
      "cell_type": "code",
      "source": [
        "df['text'] = df.index.map(vacancy_text)"
      ],
      "metadata": {
        "id": "Q6JJh7a0e5N-"
      },
      "execution_count": 53,
      "outputs": []
    },
    {
      "cell_type": "code",
      "source": [
        "query = \"\"\"Программист C++, Web-программист, разработчик аппаратуры,.Опыт работы 5 лет 8 месяцев  Март 2019 — по настоящее время 3 месяца Удаленная работа Обнинск Web-программист Доработка сайта www.autolarek24.ru  Октябрь 2013 — по настоящее время 5 лет 8 месяцев АО «ГНЦ РФ – ФЭИ» Обнинск , www.ippe.ru Энергетика ... Атомная энергетика (генерация электроэнергии, АЭС) Инженер-программист Разработка ПО для операционных систем жесткого реального времени. Разработка драйверов, многопоточных приложений, клиент-серверных приложений. Разработка микропроцессорных систем. Работа с промышленными интерфейсами и протоколами: ModBus, CAN, RS422/485. Разработка документации ПО. Работа с измерительной аппаратурой с очень высокой точностью измерения и написание ПО для мониторинга и фильтрации измерений, а так же участие в разработке, настройке и тестировании данной аппаратуры.  Июнь 2017 — Ноябрь  2017 6 месяцев ООО \"Персона\" Обнинск Информационные технологии, системная интеграция, интернет ... Разработка программного обеспечения Веб-разработчик Разработка веб-сайтов, концепция MVC, командная разработка (Git), Laravel. Проект www.combeep.com\"\"\""
      ],
      "metadata": {
        "id": "2SvzfTqKyDHt"
      },
      "execution_count": 54,
      "outputs": []
    },
    {
      "cell_type": "markdown",
      "source": [
        "## ВM25"
      ],
      "metadata": {
        "id": "D7IOVDzBxfIx"
      }
    },
    {
      "cell_type": "code",
      "source": [
        "docs = df['text'].tolist()\n",
        "preprocessed_docs = [doc for doc in docs]"
      ],
      "metadata": {
        "id": "LGtksXLBymX5"
      },
      "execution_count": 71,
      "outputs": []
    },
    {
      "cell_type": "code",
      "source": [
        "tokenized_docs = [doc.split() for doc in preprocessed_docs]\n",
        "bm25 = BM25Okapi(tokenized_docs)"
      ],
      "metadata": {
        "id": "9PNcIplHxwjj"
      },
      "execution_count": 72,
      "outputs": []
    },
    {
      "cell_type": "code",
      "source": [
        "def bm25_search(query):\n",
        "    scores = bm25.get_scores(query.split())\n",
        "    return scores"
      ],
      "metadata": {
        "id": "FVIu2Tlpxgoe"
      },
      "execution_count": 73,
      "outputs": []
    },
    {
      "cell_type": "code",
      "source": [
        "# Шаг 1: BM25 поиск\n",
        "bm25_scores = bm25_search(query)"
      ],
      "metadata": {
        "id": "eNtULtzBx3AH"
      },
      "execution_count": 74,
      "outputs": []
    },
    {
      "cell_type": "code",
      "source": [
        "bm25_scores"
      ],
      "metadata": {
        "colab": {
          "base_uri": "https://localhost:8080/"
        },
        "id": "gcqLtYSEyE6z",
        "outputId": "97be0cdd-6cad-4a26-e104-d81c4b7f3efa"
      },
      "execution_count": 75,
      "outputs": [
        {
          "output_type": "execute_result",
          "data": {
            "text/plain": [
              "array([ 6.58140977,  8.78713466, 10.14122198, ...,  0.        ,\n",
              "       12.68095199,  5.44583047])"
            ]
          },
          "metadata": {},
          "execution_count": 75
        }
      ]
    },
    {
      "cell_type": "code",
      "source": [
        "def sbert_narrowing(query, candidates):\n",
        "    model = SentenceTransformer('intfloat/multilingual-e5-large')\n",
        "    query_embedding = model.encode(query)\n",
        "    candidate_embeddings = model.encode(candidates)\n",
        "    similarities = util.pytorch_cos_sim(query_embedding, candidate_embeddings)[0]\n",
        "    sorted_indices = similarities.argsort().tolist()[::-1]\n",
        "    narrowed_candidates = [candidates[i] for i in sorted_indices]\n",
        "    return narrowed_candidates[:5]  # Выбираем топ 5 кандидатов"
      ],
      "metadata": {
        "id": "KT7p99v0yHH7"
      },
      "execution_count": 76,
      "outputs": []
    },
    {
      "cell_type": "code",
      "source": [
        "top_candidates = [doc for _, doc in sorted(zip(bm25_scores, docs), reverse=True)[:10]]\n",
        "top_candidates"
      ],
      "metadata": {
        "colab": {
          "base_uri": "https://localhost:8080/"
        },
        "id": "UvHVY6B8yZ_t",
        "outputId": "21614713-a1a2-4e09-a478-7626e1daa837"
      },
      "execution_count": 82,
      "outputs": [
        {
          "output_type": "execute_result",
          "data": {
            "text/plain": [
              "['Профессия: Программист станков с ЧПУ. Ключевые навыки: nan. Обязанности: 1. Написание эффективных программ для токарных и фрезерных обрабатывающих центров (минимизация машинного времени изготовления детали, износа инструмента, нагрузок на станок)   2. Проработка технологии изготовления деталей   3. Расчет времени изготовления   4. Построение 3Д моделей по чертежам   5. Разработка приспособлений. Требования: 1. Опыт написания программ   2. Желателен опыт работы оператором-наладчиком. Условия None',\n",
              " 'Профессия: Программист С++/Qt (junior). Ключевые навыки: nan. Обязанности: Разработка и поддержка ПО на C++ (QT) под Windows, Linux.. Требования: профильное высшее-техническое образование      знание структур данных и алгоритмов      знание принципов объектно-ориентированного программирования (ООП)      знание принципов SOLID      знание библиотеки STL      знание библиотеки Qt      желателен опыт работы в Visual Studio 2015/2017 (С++)      желателен опыт работы в QtCreator      желателен опыт работы с TCP/IP      желателен опыт разработки многопоточных приложений.    Дополнительно приветствуется:        технический английский язык.. Условия None',\n",
              " 'Профессия: Программист-разработчик. Ключевые навыки: nan. Обязанности: Разработка программ на JS, Python. Требования: Общие требования  1) Опыт работы в компании от года либо опыт разработки сайтов на технологиях из требований  2) Готовность к работе с разными технологиями и задачами Требования Frontend  1) Знание базового JavaScript  2) Знание базового HTML  3) Знание NextJS  4) Знание React  5) Опыт работы с MobX или Redux  6) Понимание работы с REST API  7) Работа с адаптивной вёрсткой  8) Знание базового CSS, Grid, Flex  Желательно  1) Знание SCSS  2) Знание Webpack  3) Понимание основ оптимизации Веб-приложений Требования Backend  1) Знание базового JavaScript  2) Знание NodeJS  3) Знание ExpressJS  4) Работа с SQL СУБД и препроцессором Knex  5) Знание принципов построения БД и опыт работы с PostgreSQL  6) Понимание принципов и паттернов построения API сервера  Желательно  1) Понимание кластеризации и распределения нагрузки  2) Ументе работы с веб-сервером  3) Умение работы с linux server, консольным  4) Знание механизмов защиты информации пользователей  5) Понимание принципов создания тестов Fullstack = Backend + Frontend Также для всех важно, понимание построения базовых алгоритмов и структур, понимание работы интернета и веб-сайтов, понимание базовых принципов взаимодействия с пользователем UI/UX. Условия Удаленная занятость по договору  Оформление по ТК РФ, БЕЛАЯ з/п   График работы 5/2   Уровень з/п обсуждается на собеседовании!',\n",
              " 'Профессия: Разработчик концепций. Ключевые навыки: Adobe Photoshop,Режиссура,Организаторские навыки,Написание сценариев,Креативность,Видеомонтаж,Работа в команде,Управление проектами,Adobe Premier Pro,3D Моделирование,Adobe After Effect,Разработка концепции,Подготовка презентаций. Обязанности: None. Требования: None. Условия работу над действительно интересными и престижными проектами в сфере частных и городских мероприятий (у вас есть шанс увидеть свою работу на фасадах Главного штаба, Летнего дворца, Эрмитажа, Петергофского дворца, в Капелле и в БКЗ)     комфортные условия работы над проектами в офисе в центре города     дружеская атмосфера и готовность готовность постоянно помогать и обучать     испытательный срок 1 месяц     возможность посещения некоторых городских и закрытых частных мероприятий по контрамаркам от компании  От кандидатов ожидается в сопроводительном письме ссылка на резюме и портфолио если есть, а также комментарий, почему вы хотите работать в этой сфере и ссылки на 2-3 3d mapping шоу (отечественных или зарубежных -- не важно), которые нравятся больше всего.  Также мы предложим Вам выполнить небольшое тестовое задание, которое не отнимет много времени, но позволит и Вам и нам понять особенности совместной работы.    Убедительно просим Вас не пытаться писать на другие почты студии или звонить по телефонам, указанным на сайте -- мы все равно не сможем вам ответить.    ВНИМАНИЕ: резюме без сопроводительного письма или с шаблонным сопроводительным письмом рассматриваться не будут. Спасибо за внимание!',\n",
              " 'Профессия: Разработчик FPGA (ПЛИС) / Стажёр. Ключевые навыки: Разработка ПО,Linux,FPGA,ПЛИС,C/C++. Обязанности: None. Требования: Базовые знания любого языка программирования (C, C++, Python и т.д.)     Готовность тратить много времени на самостоятельное изучение материалов    Будет преимуществом:        Опыт embedded разработки и работы с \"железом\"     Опыт работы с FPGA     Базовые знания английского языка     Профильное образование. Условия Возможность учиться у разработчиков с большим техническим опытом     Интересные проекты и дружная атмосфера     Кофе, плюшки, книжки     Офис в 1.4 км от м. Пионерская и в 1.8 км от м. Удельная',\n",
              " 'Профессия: Разработчик программного обеспечения (Python). Ключевые навыки: Python,SQL,Qt(PyQt),Библиотеки,Чтение и написание документации,Сетевой стек,Математика,Командная строка Linux,C/C++,СКАДА системы,DevOps,ПЛИС Xilinx. Обязанности: \\\\- доработка существующего ПО, в частности, ПО для систем электрического тестирования печатных плат    \\\\- разработка библиотек для управления исполнительными устройствами    \\\\- выпуск и предварительное тестирование релизов разработанного ПО    \\\\- помощь с написанием документации и технической поддержкой    \\\\- поиск и устранение дефектов ПО.  Значительная часть ПО является кроссплатформенным. Поэтому придётся работать как на Windows, так и на Linux.. Требования: \\\\- хорошие базовые знания Python и его стандартных библиотек    \\\\- хорошее знание стандартных математических библиотек и библиотек для обработки изображений    \\\\- опыт разработки приложений с графическим интерфейсом (предпочтительно Qt)    \\\\- умение читать документацию и находить решение проблем в интернете    \\\\- базовые знания командной строки Linux (придётся иметь дело с системами, у которых нет графической оболочки)    \\\\- представление о том, как работает сетевой стек    \\\\- умение тестировать программный код и находить в нём недостатки    \\\\- знание математики на уровне второго курса технического ВУЗа    \\\\- умение писать простую и понятную документацию к ПО (не ГОСТ).    Будет плюсом наличие опыта в следующих областях:    \\\\- знание языков программирования C и С++ (последние стандартны не требуются)    \\\\- программирование микроконтроллеров ARM Cortex M (STM32, TI Tiva…)    \\\\- представление о том, как работают СКАДА системы    \\\\- проектирование собственных электронных устройств    \\\\- опыт DevOps и сетевого администрирования    \\\\- проектирование на ПЛИС Xilinx.. Условия \\\\- работа очная    \\\\- 8 часовой рабочий день, фиксированный график    \\\\- расписание можно немного подстроить (например, сделать неравномерное распределение рабочего времени по дням недели): начало рабочего дня 8-10 часов, конец 16-21 час    \\\\- трудоустройство на неполную ставку обсуждается в случае работы не менее трёх полных рабочих дней в неделю. Возможна проектная работа    \\\\- заработная плата 110 000 - 140 000 рублей / мес. на руки по результатам собеседования, карьерный рост по результатам работы    \\\\- оплата по фактическому рабочему времени    \\\\- оплачиваемый отпуск + государственные праздники, оплата больничных    \\\\- испытательный срок 1-3 месяца    \\\\- офис на Ленинском проспекте (недалеко от м. Университет / м. Ленинский проспект)    \\\\- чай, сладкое    \\\\- бесплатные обеды    \\\\- частичная компенсация ДМС.         Успешным кандидатам будет предложено выполнить тестовое задание',\n",
              " 'Профессия: Разработчик С# .NET. Ключевые навыки: MS SQL Server,.NET Framework. Обязанности: None. Требования: Хорошие теоретические знания и опыт С# .NET      Опыт разработки API для веб      Опыт работы с базами данных      Не боишься работать с legacy-кодом      Любишь небольшие команды, где решения принимаются «на лету», а бюрократия сведена к минимуму.    Наш стек:  .NET 4.5 и выше, Web API, Microsoft SQL Server, RabbitMQ, Dynamics AX, Redis.. Условия Трудоустройство по ТК РФ, полностью \"белая\" заработная плата      График 5/2, начало рабочего дня не фиксировано      Офис или удаленная работа, всю необходимую технику предоставляем      Коллектив увлечённых работой профессионалов. Есть возможность обмениваться опытом и идеями с коллегами из других отделов      Отсутствие бюрократии. Быстрое согласование: коммуникация с коллегами в Telegram, звонки в Zoom, задачи в Jira, база знаний в Confluence      Сервис \"Деньги вперед\" \\\\- возможность досрочно получать зарплату в любой день      Софинансирование ДМС после прохождения испытательного срока, включая стоматологию      Спорт и крутые корпоративные мероприятия: Гонка героев, сплав в Уфе и Карелии, соревнования по футболу, настольному теннису, картингу, беговой клуб, киберспорт и другие.',\n",
              " 'Профессия: Разработчик ПО (ЦФТ-Банк). Ключевые навыки: nan. Обязанности: None. Требования: Опыт внедрения либо глубокого программирования и настройки продукта Обязательная отчетность в среде АБС ЦФТ- Банк     Уверенное знание банковского бухгалтерского учета.     Умение читать и отлаживать чужой код на PL/PLUS, PL/SQL     Хорошие знания принципов и логики построения системы АБС ЦФТ- Банк. Условия График работы 5/2, с 8-30 до 17-30, пятница-до 16-30, при необходимости-гибкое смещение рабочего времени     м. Новокузнецкая',\n",
              " 'Профессия: Разработчик C# .NET Middle. Ключевые навыки: MongoDB,PostgreSQL,.NET Framework,MS SQL,C#. Обязанности: None. Требования: Хорошие теоретические и практические знания C#, опыт в разработке backend-сервисов с использованием .NET Framework и .NET Core      Опыт разработки API для веб и мобильных приложений      Опыт работы с одной из баз данных PostgreSQL, MSSQL      Не боишься работать с legacy-кодом      Любишь небольшие команды, где решения принимаются «на лету», а бюрократия сведена к минимуму.. Условия Трудоустройство по ТК РФ, полностью \"белая\" заработная плата      График 5/2, начало рабочего дня не фиксировано      Офис или удаленная работа, всю необходимую технику предоставляем      Города с наличием офиса: Москва, Уфа, Новосибирск, Кострома, Владимир и Барнаул      Отсутствие бюрократии. Быстрое согласование: коммуникация с коллегами в Telegram, звонки в Zoom, задачи в Jira, база знаний в Confluence      Софинансирование ДМС после прохождения испытательного срока, включая стоматологию      Спорт и крутые корпоративные мероприятия: Гонка героев, сплав в Уфе и Карелии, соревнования по футболу, настольному теннису, картингу, беговой клуб, киберспорт и другие.',\n",
              " 'Профессия: Разработчик С++. Ключевые навыки: C++,Python,PyTorch,OpenCV. Обязанности: Разработка программного обеспечения      Поддержание и развитие существующих проектов.. Требования: хорошее знание С++ (14++)      знание OpenCV      опыт обработки изображений (знание фильтров и алгоритмов по обработке изображений)       высшее техническое (незаконченное, начиная с 4-го курса) образование.    Плюсом будет:        опыт работы с TensorRT и OnnxRT      знания Python(3.6+) и PyTorch.. Условия своевременная \"белая\" заработная плата      работа в крупной стабильной компании      участие в крупных проектах      молодой и дружный коллектив      корпоративная стоянка у офиса      оформление и оплата больничных по ТК РФ      график работы 5/2 с 8:00-17:00/9:00-18:00.']"
            ]
          },
          "metadata": {},
          "execution_count": 82
        }
      ]
    },
    {
      "cell_type": "code",
      "source": [
        "torch.cuda.empty_cache()"
      ],
      "metadata": {
        "id": "fCj8fw-10Zo5"
      },
      "execution_count": 83,
      "outputs": []
    },
    {
      "cell_type": "code",
      "source": [
        "# Шаг 2: SBERT для сужения воронки\n",
        "narrowed_candidates = sbert_narrowing(query, top_candidates)"
      ],
      "metadata": {
        "id": "JYFz5PBwyoUW"
      },
      "execution_count": 84,
      "outputs": []
    },
    {
      "cell_type": "code",
      "source": [
        "narrowed_candidates"
      ],
      "metadata": {
        "colab": {
          "base_uri": "https://localhost:8080/"
        },
        "id": "IUlohfKp1C-d",
        "outputId": "ede23b6c-77bf-40cc-b016-580486ce1ec8"
      },
      "execution_count": 85,
      "outputs": [
        {
          "output_type": "execute_result",
          "data": {
            "text/plain": [
              "['Профессия: Программист-разработчик. Ключевые навыки: nan. Обязанности: Разработка программ на JS, Python. Требования: Общие требования  1) Опыт работы в компании от года либо опыт разработки сайтов на технологиях из требований  2) Готовность к работе с разными технологиями и задачами Требования Frontend  1) Знание базового JavaScript  2) Знание базового HTML  3) Знание NextJS  4) Знание React  5) Опыт работы с MobX или Redux  6) Понимание работы с REST API  7) Работа с адаптивной вёрсткой  8) Знание базового CSS, Grid, Flex  Желательно  1) Знание SCSS  2) Знание Webpack  3) Понимание основ оптимизации Веб-приложений Требования Backend  1) Знание базового JavaScript  2) Знание NodeJS  3) Знание ExpressJS  4) Работа с SQL СУБД и препроцессором Knex  5) Знание принципов построения БД и опыт работы с PostgreSQL  6) Понимание принципов и паттернов построения API сервера  Желательно  1) Понимание кластеризации и распределения нагрузки  2) Ументе работы с веб-сервером  3) Умение работы с linux server, консольным  4) Знание механизмов защиты информации пользователей  5) Понимание принципов создания тестов Fullstack = Backend + Frontend Также для всех важно, понимание построения базовых алгоритмов и структур, понимание работы интернета и веб-сайтов, понимание базовых принципов взаимодействия с пользователем UI/UX. Условия Удаленная занятость по договору  Оформление по ТК РФ, БЕЛАЯ з/п   График работы 5/2   Уровень з/п обсуждается на собеседовании!',\n",
              " 'Профессия: Разработчик С++. Ключевые навыки: C++,Python,PyTorch,OpenCV. Обязанности: Разработка программного обеспечения      Поддержание и развитие существующих проектов.. Требования: хорошее знание С++ (14++)      знание OpenCV      опыт обработки изображений (знание фильтров и алгоритмов по обработке изображений)       высшее техническое (незаконченное, начиная с 4-го курса) образование.    Плюсом будет:        опыт работы с TensorRT и OnnxRT      знания Python(3.6+) и PyTorch.. Условия своевременная \"белая\" заработная плата      работа в крупной стабильной компании      участие в крупных проектах      молодой и дружный коллектив      корпоративная стоянка у офиса      оформление и оплата больничных по ТК РФ      график работы 5/2 с 8:00-17:00/9:00-18:00.',\n",
              " 'Профессия: Разработчик программного обеспечения (Python). Ключевые навыки: Python,SQL,Qt(PyQt),Библиотеки,Чтение и написание документации,Сетевой стек,Математика,Командная строка Linux,C/C++,СКАДА системы,DevOps,ПЛИС Xilinx. Обязанности: \\\\- доработка существующего ПО, в частности, ПО для систем электрического тестирования печатных плат    \\\\- разработка библиотек для управления исполнительными устройствами    \\\\- выпуск и предварительное тестирование релизов разработанного ПО    \\\\- помощь с написанием документации и технической поддержкой    \\\\- поиск и устранение дефектов ПО.  Значительная часть ПО является кроссплатформенным. Поэтому придётся работать как на Windows, так и на Linux.. Требования: \\\\- хорошие базовые знания Python и его стандартных библиотек    \\\\- хорошее знание стандартных математических библиотек и библиотек для обработки изображений    \\\\- опыт разработки приложений с графическим интерфейсом (предпочтительно Qt)    \\\\- умение читать документацию и находить решение проблем в интернете    \\\\- базовые знания командной строки Linux (придётся иметь дело с системами, у которых нет графической оболочки)    \\\\- представление о том, как работает сетевой стек    \\\\- умение тестировать программный код и находить в нём недостатки    \\\\- знание математики на уровне второго курса технического ВУЗа    \\\\- умение писать простую и понятную документацию к ПО (не ГОСТ).    Будет плюсом наличие опыта в следующих областях:    \\\\- знание языков программирования C и С++ (последние стандартны не требуются)    \\\\- программирование микроконтроллеров ARM Cortex M (STM32, TI Tiva…)    \\\\- представление о том, как работают СКАДА системы    \\\\- проектирование собственных электронных устройств    \\\\- опыт DevOps и сетевого администрирования    \\\\- проектирование на ПЛИС Xilinx.. Условия \\\\- работа очная    \\\\- 8 часовой рабочий день, фиксированный график    \\\\- расписание можно немного подстроить (например, сделать неравномерное распределение рабочего времени по дням недели): начало рабочего дня 8-10 часов, конец 16-21 час    \\\\- трудоустройство на неполную ставку обсуждается в случае работы не менее трёх полных рабочих дней в неделю. Возможна проектная работа    \\\\- заработная плата 110 000 - 140 000 рублей / мес. на руки по результатам собеседования, карьерный рост по результатам работы    \\\\- оплата по фактическому рабочему времени    \\\\- оплачиваемый отпуск + государственные праздники, оплата больничных    \\\\- испытательный срок 1-3 месяца    \\\\- офис на Ленинском проспекте (недалеко от м. Университет / м. Ленинский проспект)    \\\\- чай, сладкое    \\\\- бесплатные обеды    \\\\- частичная компенсация ДМС.         Успешным кандидатам будет предложено выполнить тестовое задание',\n",
              " 'Профессия: Разработчик ПО (ЦФТ-Банк). Ключевые навыки: nan. Обязанности: None. Требования: Опыт внедрения либо глубокого программирования и настройки продукта Обязательная отчетность в среде АБС ЦФТ- Банк     Уверенное знание банковского бухгалтерского учета.     Умение читать и отлаживать чужой код на PL/PLUS, PL/SQL     Хорошие знания принципов и логики построения системы АБС ЦФТ- Банк. Условия График работы 5/2, с 8-30 до 17-30, пятница-до 16-30, при необходимости-гибкое смещение рабочего времени     м. Новокузнецкая',\n",
              " 'Профессия: Программист С++/Qt (junior). Ключевые навыки: nan. Обязанности: Разработка и поддержка ПО на C++ (QT) под Windows, Linux.. Требования: профильное высшее-техническое образование      знание структур данных и алгоритмов      знание принципов объектно-ориентированного программирования (ООП)      знание принципов SOLID      знание библиотеки STL      знание библиотеки Qt      желателен опыт работы в Visual Studio 2015/2017 (С++)      желателен опыт работы в QtCreator      желателен опыт работы с TCP/IP      желателен опыт разработки многопоточных приложений.    Дополнительно приветствуется:        технический английский язык.. Условия None']"
            ]
          },
          "metadata": {},
          "execution_count": 85
        }
      ]
    },
    {
      "cell_type": "markdown",
      "source": [
        "## Реранкер"
      ],
      "metadata": {
        "id": "66V9aAIb1rMD"
      }
    },
    {
      "cell_type": "code",
      "source": [
        "from sentence_transformers import CrossEncoder\n",
        "from pprint import pprint\n",
        "cross_model = CrossEncoder('PitKoro/cross-encoder-ru-msmarco-passage', max_length=2048)\n",
        "\n",
        "\n",
        "def cross_score(model_inputs):\n",
        "    scores = cross_model.predict(model_inputs)\n",
        "    return scores\n",
        "\n",
        "model_inputs = [[query, item[:1024]] for item in narrowed_candidates]\n",
        "scores = cross_score(model_inputs)\n",
        "#Sort the scores in decreasing order\n",
        "ranked_results = [{'Text': inp, 'Score': score} for inp, score in zip(narrowed_candidates, scores)]\n",
        "ranked_results = sorted(ranked_results, key=lambda x: x['Score'], reverse=True)\n",
        "\n",
        "\n",
        "print(\"\\n\")\n",
        "for result in ranked_results:\n",
        "    print('\\t',pprint(result))"
      ],
      "metadata": {
        "colab": {
          "base_uri": "https://localhost:8080/"
        },
        "id": "zm1IcBO7yr3w",
        "outputId": "7e67fb84-79f8-4b78-db7b-5cb50cf8815c"
      },
      "execution_count": 86,
      "outputs": [
        {
          "output_type": "stream",
          "name": "stdout",
          "text": [
            "\n",
            "\n",
            "{'Score': 0.53047097,\n",
            " 'Text': 'Профессия: Программист С++/Qt (junior). Ключевые навыки: nan. '\n",
            "         'Обязанности: Разработка и поддержка ПО на C++ (QT) под Windows, '\n",
            "         'Linux.. Требования: профильное высшее-техническое образование      '\n",
            "         'знание структур данных и алгоритмов      знание принципов '\n",
            "         'объектно-ориентированного программирования (ООП)      знание '\n",
            "         'принципов SOLID      знание библиотеки STL      знание библиотеки '\n",
            "         'Qt      желателен опыт работы в Visual Studio 2015/2017 (С++)      '\n",
            "         'желателен опыт работы в QtCreator      желателен опыт работы с '\n",
            "         'TCP/IP      желателен опыт разработки многопоточных приложений.    '\n",
            "         'Дополнительно приветствуется:        технический английский язык.. '\n",
            "         'Условия None'}\n",
            "\t None\n",
            "{'Score': 0.3123988,\n",
            " 'Text': 'Профессия: Разработчик ПО (ЦФТ-Банк). Ключевые навыки: nan. '\n",
            "         'Обязанности: None. Требования: Опыт внедрения либо глубокого '\n",
            "         'программирования и настройки продукта Обязательная отчетность в '\n",
            "         'среде АБС ЦФТ- Банк     Уверенное знание банковского бухгалтерского '\n",
            "         'учета.     Умение читать и отлаживать чужой код на PL/PLUS, '\n",
            "         'PL/SQL     Хорошие знания принципов и логики построения системы АБС '\n",
            "         'ЦФТ- Банк. Условия График работы 5/2, с 8-30 до 17-30, пятница-до '\n",
            "         '16-30, при необходимости-гибкое смещение рабочего времени     м. '\n",
            "         'Новокузнецкая'}\n",
            "\t None\n",
            "{'Score': 0.29961762,\n",
            " 'Text': 'Профессия: Разработчик С++. Ключевые навыки: '\n",
            "         'C++,Python,PyTorch,OpenCV. Обязанности: Разработка программного '\n",
            "         'обеспечения      Поддержание и развитие существующих проектов.. '\n",
            "         'Требования: хорошее знание С++ (14++)      знание OpenCV      опыт '\n",
            "         'обработки изображений (знание фильтров и алгоритмов по обработке '\n",
            "         'изображений)       высшее техническое (незаконченное, начиная с 4-го '\n",
            "         'курса) образование.    Плюсом будет:        опыт работы с TensorRT и '\n",
            "         'OnnxRT      знания Python(3.6+) и PyTorch.. Условия своевременная '\n",
            "         '\"белая\" заработная плата      работа в крупной стабильной '\n",
            "         'компании      участие в крупных проектах      молодой и дружный '\n",
            "         'коллектив      корпоративная стоянка у офиса      оформление и '\n",
            "         'оплата больничных по ТК РФ      график работы 5/2 с '\n",
            "         '8:00-17:00/9:00-18:00.'}\n",
            "\t None\n",
            "{'Score': 0.077772684,\n",
            " 'Text': 'Профессия: Программист-разработчик. Ключевые навыки: nan. '\n",
            "         'Обязанности: Разработка программ на JS, Python. Требования: Общие '\n",
            "         'требования  1) Опыт работы в компании от года либо опыт разработки '\n",
            "         'сайтов на технологиях из требований  2) Готовность к работе с '\n",
            "         'разными технологиями и задачами Требования Frontend  1) Знание '\n",
            "         'базового JavaScript  2) Знание базового HTML  3) Знание NextJS  4) '\n",
            "         'Знание React  5) Опыт работы с MobX или Redux  6) Понимание работы с '\n",
            "         'REST API  7) Работа с адаптивной вёрсткой  8) Знание базового CSS, '\n",
            "         'Grid, Flex  Желательно  1) Знание SCSS  2) Знание Webpack  3) '\n",
            "         'Понимание основ оптимизации Веб-приложений Требования Backend  1) '\n",
            "         'Знание базового JavaScript  2) Знание NodeJS  3) Знание ExpressJS  '\n",
            "         '4) Работа с SQL СУБД и препроцессором Knex  5) Знание принципов '\n",
            "         'построения БД и опыт работы с PostgreSQL  6) Понимание принципов и '\n",
            "         'паттернов построения API сервера  Желательно  1) Понимание '\n",
            "         'кластеризации и распределения нагрузки  2) Ументе работы с '\n",
            "         'веб-сервером  3) Умение работы с linux server, консольным  4) Знание '\n",
            "         'механизмов защиты информации пользователей  5) Понимание принципов '\n",
            "         'создания тестов Fullstack = Backend + Frontend Также для всех важно, '\n",
            "         'понимание построения базовых алгоритмов и структур, понимание работы '\n",
            "         'интернета и веб-сайтов, понимание базовых принципов взаимодействия с '\n",
            "         'пользователем UI/UX. Условия Удаленная занятость по договору  '\n",
            "         'Оформление по ТК РФ, БЕЛАЯ з/п   График работы 5/2   Уровень з/п '\n",
            "         'обсуждается на собеседовании!'}\n",
            "\t None\n",
            "{'Score': 0.063540675,\n",
            " 'Text': 'Профессия: Разработчик программного обеспечения (Python). Ключевые '\n",
            "         'навыки: Python,SQL,Qt(PyQt),Библиотеки,Чтение и написание '\n",
            "         'документации,Сетевой стек,Математика,Командная строка '\n",
            "         'Linux,C/C++,СКАДА системы,DevOps,ПЛИС Xilinx. Обязанности: \\\\- '\n",
            "         'доработка существующего ПО, в частности, ПО для систем '\n",
            "         'электрического тестирования печатных плат    \\\\- разработка '\n",
            "         'библиотек для управления исполнительными устройствами    \\\\- выпуск '\n",
            "         'и предварительное тестирование релизов разработанного ПО    \\\\- '\n",
            "         'помощь с написанием документации и технической поддержкой    \\\\- '\n",
            "         'поиск и устранение дефектов ПО.  Значительная часть ПО является '\n",
            "         'кроссплатформенным. Поэтому придётся работать как на Windows, так и '\n",
            "         'на Linux.. Требования: \\\\- хорошие базовые знания Python и его '\n",
            "         'стандартных библиотек    \\\\- хорошее знание стандартных '\n",
            "         'математических библиотек и библиотек для обработки изображений    '\n",
            "         '\\\\- опыт разработки приложений с графическим интерфейсом '\n",
            "         '(предпочтительно Qt)    \\\\- умение читать документацию и находить '\n",
            "         'решение проблем в интернете    \\\\- базовые знания командной строки '\n",
            "         'Linux (придётся иметь дело с системами, у которых нет графической '\n",
            "         'оболочки)    \\\\- представление о том, как работает сетевой стек    '\n",
            "         '\\\\- умение тестировать программный код и находить в нём '\n",
            "         'недостатки    \\\\- знание математики на уровне второго курса '\n",
            "         'технического ВУЗа    \\\\- умение писать простую и понятную '\n",
            "         'документацию к ПО (не ГОСТ).    Будет плюсом наличие опыта в '\n",
            "         'следующих областях:    \\\\- знание языков программирования C и С++ '\n",
            "         '(последние стандартны не требуются)    \\\\- программирование '\n",
            "         'микроконтроллеров ARM Cortex M (STM32, TI Tiva…)    \\\\- '\n",
            "         'представление о том, как работают СКАДА системы    \\\\- '\n",
            "         'проектирование собственных электронных устройств    \\\\- опыт DevOps '\n",
            "         'и сетевого администрирования    \\\\- проектирование на ПЛИС Xilinx.. '\n",
            "         'Условия \\\\- работа очная    \\\\- 8 часовой рабочий день, '\n",
            "         'фиксированный график    \\\\- расписание можно немного подстроить '\n",
            "         '(например, сделать неравномерное распределение рабочего времени по '\n",
            "         'дням недели): начало рабочего дня 8-10 часов, конец 16-21 час    \\\\- '\n",
            "         'трудоустройство на неполную ставку обсуждается в случае работы не '\n",
            "         'менее трёх полных рабочих дней в неделю. Возможна проектная '\n",
            "         'работа    \\\\- заработная плата 110 000 - 140 000 рублей / мес. на '\n",
            "         'руки по результатам собеседования, карьерный рост по результатам '\n",
            "         'работы    \\\\- оплата по фактическому рабочему времени    \\\\- '\n",
            "         'оплачиваемый отпуск + государственные праздники, оплата '\n",
            "         'больничных    \\\\- испытательный срок 1-3 месяца    \\\\- офис на '\n",
            "         'Ленинском проспекте (недалеко от м. Университет / м. Ленинский '\n",
            "         'проспект)    \\\\- чай, сладкое    \\\\- бесплатные обеды    \\\\- '\n",
            "         'частичная компенсация ДМС.         Успешным кандидатам будет '\n",
            "         'предложено выполнить тестовое задание'}\n",
            "\t None\n"
          ]
        }
      ]
    }
  ]
}